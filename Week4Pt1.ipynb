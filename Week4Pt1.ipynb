{
 "cells": [
  {
   "cell_type": "markdown",
   "metadata": {},
   "source": [
    "# The Battle of Neighborhoods\n",
    "\n",
    "## Week 4: Intro/Business Problem"
   ]
  },
  {
   "cell_type": "markdown",
   "metadata": {},
   "source": [
    "### Background:\n",
    "\n",
    "Washington, DC is the capital of the United States and is home to a wide range of museums and restaurants. Despite its many tourist attractions and exciting venues, DC locals tend to work intense, demanding jobs with long hours. A [2015 Washington Times article](https://www.washingtontimes.com/news/2015/mar/19/dc-residents-have-third-longest-workweek-including/#:~:text=Despite%20the%20critiques%20that%20no,commuting%20to%20and%20from%20work.) notes that DC residents have the third-longest workweek in the nation, averaging 48 hours and 39 minutes weekly. Long hours and grueling commutes make caffeine an essential component to most DC residents' workdays.\n",
    "\n",
    "A recent [DCRefined](http://dcrefined.com/eat-drink/feel-the-buzz-dc-ranked-in-top-10-best-coffee-cities-in-america) article reveals that DC ranked first in average ranking of coffee shops on The Daily Mail's \"50 Best Coffee Shops\" list, sixth in average spending on coffee per household, and 10th in the Top 20 cities for Coffee Lovers. These stats indicate that coffee is a well-loved beverage in the capital. "
   ]
  },
  {
   "cell_type": "markdown",
   "metadata": {},
   "source": [
    "### Description:\n",
    "\n",
    "Young entrepreneur Coffea is interested in starting a coffee delivery business in DC. With COVID forcing most individuals to work from home, coffee businesses are suffering and coffee drinkers are missing their favorite coffee venues. While major food delivery services like UberEats, DoorDash, and GrubHub can deliver coffee, Coffea's business would be optimized for coffee delivery. Optimization would include the following:\n",
    "\n",
    "1. Equipment to keep hot coffee hot and iced coffee cold\n",
    "2. Partnerships with local coffee venues\n",
    "3. Efficient delivery system to provide coffee services\n",
    "\n",
    "Coffea wants to determine the best homebase for her company to ensure its success. In order to determine where to focus her efforts she must consider the following questions:\n",
    "\n",
    "1. Which DC neighborhoods have coffee shops as their top venues?\n",
    "2. Which DC neighborhoods are the wealthiest and most likely to use Coffea's service?"
   ]
  },
  {
   "cell_type": "markdown",
   "metadata": {},
   "source": [
    "### Target audience:\n",
    "The target audience for this project is Coffea as she seeks to determine the best coffee-shop partnerships and homebase for her coffee-delivery business."
   ]
  },
  {
   "cell_type": "markdown",
   "metadata": {},
   "source": [
    "### Success Rate\n",
    "\n",
    "Since DC residents seem to love coffee more than the average American, coffee-based services should be successful. Especially during the pandemic, a coffee-delivery service could support small businesses and allow DC residents to enjoy their favorite coffee shops remotely. These factors suggest that a coffee delivery service based in a affluent, coffee-loving area would be successful."
   ]
  },
  {
   "cell_type": "code",
   "execution_count": null,
   "metadata": {},
   "outputs": [],
   "source": []
  }
 ],
 "metadata": {
  "kernelspec": {
   "display_name": "Python 3",
   "language": "python",
   "name": "python3"
  },
  "language_info": {
   "codemirror_mode": {
    "name": "ipython",
    "version": 3
   },
   "file_extension": ".py",
   "mimetype": "text/x-python",
   "name": "python",
   "nbconvert_exporter": "python",
   "pygments_lexer": "ipython3",
   "version": "3.7.6"
  }
 },
 "nbformat": 4,
 "nbformat_minor": 4
}
